{
 "cells": [
  {
   "cell_type": "code",
   "execution_count": 117,
   "metadata": {
    "collapsed": true
   },
   "outputs": [],
   "source": [
    "import requests\n",
    "import json"
   ]
  },
  {
   "cell_type": "code",
   "execution_count": 118,
   "outputs": [],
   "source": [
    "gwascat_URL = \"https://www.ebi.ac.uk/gwas/rest/api/\"\n",
    "gwascat_endpoints = {\n",
    "\t\"traits\": \"efoTraits\"\n",
    "}\n",
    "\n",
    "pgscat_URL = \"https://pgscatalog.org/rest/\"\n",
    "pgscat_endpoints = {\n",
    "\t\"all_traits\": \"trait/all/\",\n",
    "}"
   ],
   "metadata": {
    "collapsed": false,
    "pycharm": {
     "name": "#%%\n"
    }
   }
  },
  {
   "cell_type": "code",
   "execution_count": 119,
   "outputs": [],
   "source": [
    "def get_endpoint_json(url, endpoint, **kwargs):\n",
    "    # join kwargs into URL query string to look like \"?key1=value1&key2=value2...\"\n",
    "\tquerystring = \"?\" + \"&\".join([f\"{k}={v}\" for k, v in kwargs.items()])\n",
    "\t# get response from API endpoint\n",
    "\tresponse = requests.get(f\"{url}{endpoint}{'' if querystring == '?' else querystring}\")\n",
    "\t# return API response as json\n",
    "\tcontent = json.loads(response.content)\n",
    "\treturn content"
   ],
   "metadata": {
    "collapsed": false,
    "pycharm": {
     "name": "#%%\n"
    }
   }
  },
  {
   "cell_type": "code",
   "execution_count": 120,
   "outputs": [
    {
     "name": "stdout",
     "output_type": "stream",
     "text": [
      "4304\n"
     ]
    }
   ],
   "source": [
    "# Get first page of traits endpoint\n",
    "traits_firstpage = get_endpoint_json(gwascat_URL, gwascat_endpoints['traits'])\n",
    "# Grab total number of traits\n",
    "traits_available = traits_firstpage['page']['totalElements']"
   ],
   "metadata": {
    "collapsed": false,
    "pycharm": {
     "name": "#%%\n"
    }
   }
  },
  {
   "cell_type": "code",
   "execution_count": 124,
   "outputs": [
    {
     "name": "stdout",
     "output_type": "stream",
     "text": [
      "4304 remaining\n",
      "1000 new traits added\n",
      "1000 traits collected\n",
      "\n",
      "3304 remaining\n",
      "1000 new traits added\n",
      "2000 traits collected\n",
      "\n",
      "2304 remaining\n",
      "1000 new traits added\n",
      "3000 traits collected\n",
      "\n",
      "1304 remaining\n",
      "1000 new traits added\n",
      "4000 traits collected\n",
      "\n",
      "304 remaining\n",
      "304 new traits added\n",
      "4304 traits collected\n",
      "\n"
     ]
    }
   ],
   "source": [
    "# Loop through endpoint to save all traits\n",
    "traits_remaining = traits_available\n",
    "page_number = 0\n",
    "trait_list = []\n",
    "trait_dict = {}\n",
    "\n",
    "print(\"Getting all traits from GWAS Catalog\")\n",
    "while traits_remaining > 0:\n",
    "\tprint(f\"{traits_remaining} traits remaining\")\n",
    "\tnext_trait_set = get_endpoint_json(\n",
    "\t\tgwascat_URL, gwascat_endpoints['traits'],\n",
    "\t\tpage=page_number, size=1000\n",
    "\t)['_embedded']['efoTraits']\n",
    "\tnew_trait_list = [(trait['trait'], trait['shortForm']) for trait in next_trait_set]\n",
    "\ttrait_list += new_trait_list\n",
    "\n",
    "\tpage_number += 1\n",
    "\ttraits_remaining -= len(new_trait_list)\n",
    "\tprint(\n",
    "\t\tf\"{len(new_trait_list)} new traits added\\n\"\n",
    "\t\tf\"{len(trait_list)} traits collected\\n\"\n",
    "\t)"
   ],
   "metadata": {
    "collapsed": false,
    "pycharm": {
     "name": "#%%\n"
    }
   }
  },
  {
   "cell_type": "code",
   "execution_count": 125,
   "outputs": [],
   "source": [
    "from collections import Counter\n",
    "n = Counter([trait[0] for trait in trait_list])\n",
    "\n",
    "duplicates = {k: v for k, v in n.items() if v > 1}\n"
   ],
   "metadata": {
    "collapsed": false,
    "pycharm": {
     "name": "#%%\n"
    }
   }
  },
  {
   "cell_type": "code",
   "execution_count": 126,
   "outputs": [
    {
     "name": "stdout",
     "output_type": "stream",
     "text": [
      "('urticaria', 'EFO_0005531')\n",
      "('congestive heart failure', 'EFO_0000373')\n",
      "('congestive heart failure', 'MONDO_0005009')\n",
      "('urticaria', 'MONDO_0005492')\n"
     ]
    }
   ],
   "source": [
    "for i in trait_list:\n",
    "\tif i[0] in duplicates.keys():\n",
    "\t\tprint(i)"
   ],
   "metadata": {
    "collapsed": false,
    "pycharm": {
     "name": "#%%\n"
    }
   }
  },
  {
   "cell_type": "code",
   "execution_count": null,
   "outputs": [],
   "source": [
    "# Add traits to database, allow multiple shortforms"
   ],
   "metadata": {
    "collapsed": false,
    "pycharm": {
     "name": "#%%\n"
    }
   }
  },
  {
   "cell_type": "code",
   "execution_count": null,
   "outputs": [],
   "source": [
    "# TODO: Get PRS models for traits"
   ],
   "metadata": {
    "collapsed": false,
    "pycharm": {
     "name": "#%%\n"
    }
   }
  }
 ],
 "metadata": {
  "kernelspec": {
   "display_name": "Python 3",
   "language": "python",
   "name": "python3"
  },
  "language_info": {
   "codemirror_mode": {
    "name": "ipython",
    "version": 2
   },
   "file_extension": ".py",
   "mimetype": "text/x-python",
   "name": "python",
   "nbconvert_exporter": "python",
   "pygments_lexer": "ipython2",
   "version": "2.7.6"
  }
 },
 "nbformat": 4,
 "nbformat_minor": 0
}